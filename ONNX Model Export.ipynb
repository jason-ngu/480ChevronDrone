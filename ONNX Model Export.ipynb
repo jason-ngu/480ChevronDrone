{
  "nbformat": 4,
  "nbformat_minor": 0,
  "metadata": {
    "colab": {
      "name": "ONNX Multiclassifier Export.ipynb",
      "provenance": []
    },
    "kernelspec": {
      "name": "python3",
      "display_name": "Python 3"
    }
  },
  "cells": [
    {
      "cell_type": "code",
      "metadata": {
        "id": "hlSJAqNFTg8U"
      },
      "source": [
        "!pip install fastai --upgrade"
      ],
      "execution_count": null,
      "outputs": []
    },
    {
      "cell_type": "code",
      "metadata": {
        "id": "5M5P7uW_T0AU"
      },
      "source": [
        "from google.colab import drive\n",
        "drive.mount('/content/drive')"
      ],
      "execution_count": null,
      "outputs": []
    },
    {
      "cell_type": "code",
      "metadata": {
        "id": "SfjFcfcFT08Y"
      },
      "source": [
        "from fastai.vision.all import *"
      ],
      "execution_count": null,
      "outputs": []
    },
    {
      "cell_type": "markdown",
      "metadata": {
        "id": "LfeCQhHsUCYx"
      },
      "source": [
        "Helper functions defined inside the exported FastAI model.\n",
        "\n",
        "These must be EXACTLY the same as the ones defined in the training notebook."
      ]
    },
    {
      "cell_type": "code",
      "metadata": {
        "id": "fmyxdvkYUBJl"
      },
      "source": [
        "def get_image_path(img):\n",
        "  return img\n",
        "\n",
        "def get_image_classes(img):\n",
        "  classifs = img2classifs.get(img)\n",
        "  if classifs is None:\n",
        "    return []\n",
        "  else:\n",
        "    return classifs.split()"
      ],
      "execution_count": null,
      "outputs": []
    },
    {
      "cell_type": "markdown",
      "metadata": {
        "id": "S5lurDkTXfbr"
      },
      "source": [
        "Load the model from the FastAI .pkl file"
      ]
    },
    {
      "cell_type": "code",
      "metadata": {
        "id": "3WsfyYwFUbC4"
      },
      "source": [
        "learner = load_learner(\"/content/drive/MyDrive/480ChevronDrone/models/third-multiclass.pkl\")"
      ],
      "execution_count": null,
      "outputs": []
    },
    {
      "cell_type": "markdown",
      "metadata": {
        "id": "vG4OLbLzWBFI"
      },
      "source": [
        "Export the model to torch format\n",
        "Explanation of `torch.randn(1, 3, 512, 512)`:\n",
        "1. Import images in batches of 1 (process one image at a time)\n",
        "2. Image has three color channels\n",
        "3. Resized images are 512x512 pixels \n",
        "\n",
        "https://tapesoftware.net/fastai-onnx/"
      ]
    },
    {
      "cell_type": "code",
      "metadata": {
        "id": "LiHNIvHyVMqO"
      },
      "source": [
        "torch.onnx.export(\n",
        "    learner.model,\n",
        "    torch.randn(1, 3, 512, 512),\n",
        "    \"/content/drive/MyDrive/480ChevronDrone/models/third-multiclass.onnx\",\n",
        "    input_names=[\"image\"],\n",
        "    output_names=[\"tag_types\"]\n",
        ")"
      ],
      "execution_count": null,
      "outputs": []
    },
    {
      "cell_type": "markdown",
      "metadata": {
        "id": "wQ5sKorAYZog"
      },
      "source": [
        "The ONNX model can output the probability of each class being in an image, but it will jus tbe class indexes (0-4). Save the vocab used internally by the FastAI model so the indexes can be interpreted later."
      ]
    },
    {
      "cell_type": "code",
      "metadata": {
        "id": "YfqU2W83XPca"
      },
      "source": [
        "with open(\"/content/drive/MyDrive/480ChevronDrone/models/third-multiclass.vocab\", \"w\") as f:\n",
        "    f.write(\"\\n\".join(list(learner.dls.vocab)))"
      ],
      "execution_count": null,
      "outputs": []
    }
  ]
}