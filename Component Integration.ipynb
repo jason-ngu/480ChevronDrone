{
  "nbformat": 4,
  "nbformat_minor": 0,
  "metadata": {
    "colab": {
      "name": "Final_Product?.ipynb",
      "provenance": []
    },
    "kernelspec": {
      "name": "python3",
      "display_name": "Python 3"
    }
  },
  "cells": [
    {
      "cell_type": "code",
      "metadata": {
        "id": "hlSJAqNFTg8U"
      },
      "source": [
        "!pip install fastai --upgrade\n",
        "!pip install labelbox"
      ],
      "execution_count": null,
      "outputs": []
    },
    {
      "cell_type": "code",
      "metadata": {
        "colab": {
          "base_uri": "https://localhost:8080/"
        },
        "id": "5M5P7uW_T0AU",
        "outputId": "0af1f736-04f2-4b9d-dd13-f8d027e88c8c"
      },
      "source": [
        "from google.colab import drive\n",
        "drive.mount('/content/drive')"
      ],
      "execution_count": null,
      "outputs": [
        {
          "output_type": "stream",
          "text": [
            "Mounted at /content/drive\n"
          ],
          "name": "stdout"
        }
      ]
    },
    {
      "cell_type": "code",
      "metadata": {
        "id": "SfjFcfcFT08Y"
      },
      "source": [
        "from fastai.vision.all import *"
      ],
      "execution_count": null,
      "outputs": []
    },
    {
      "cell_type": "markdown",
      "metadata": {
        "id": "LfeCQhHsUCYx"
      },
      "source": [
        "Helper functions defined inside the exported FastAI model.\n",
        "\n",
        "These must be EXACTLY the same as the ones defined in the training notebook."
      ]
    },
    {
      "cell_type": "code",
      "metadata": {
        "id": "fmyxdvkYUBJl"
      },
      "source": [
        "def get_image_path(img):\n",
        "  return img\n",
        "\n",
        "def get_image_classes(img):\n",
        "  classifs = img2classifs.get(img)\n",
        "  if classifs is None:\n",
        "    return []\n",
        "  else:\n",
        "    return classifs.split()"
      ],
      "execution_count": null,
      "outputs": []
    },
    {
      "cell_type": "markdown",
      "metadata": {
        "id": "S5lurDkTXfbr"
      },
      "source": [
        "Load the model from the FastAI .pkl file"
      ]
    },
    {
      "cell_type": "code",
      "metadata": {
        "id": "3WsfyYwFUbC4"
      },
      "source": [
        "learner = load_learner(\"/content/drive/MyDrive/480ChevronDrone/models/third-multiclass.pkl\")"
      ],
      "execution_count": null,
      "outputs": []
    },
    {
      "cell_type": "markdown",
      "metadata": {
        "id": "Fy_oXN2O33OX"
      },
      "source": [
        "Connect to LabelBox"
      ]
    },
    {
      "cell_type": "code",
      "metadata": {
        "id": "Mo4b6Obq5Rd-"
      },
      "source": [
        "import labelbox\n",
        "\n",
        "#@title Raw fields\n",
        "labelbox_api_key = \"\"#@param {type:\"string\"}\n",
        "labelbox_client = labelbox.Client(api_key=labelbox_api_key)\n",
        "labelbox_project = labelbox_client.get_projecimage_data = label.data_row()\n",
        "labelbox_dataset = labelbox_client.get_dataset(\"ckgy008m67eku0784rld6g3lo\")"
      ],
      "execution_count": null,
      "outputs": []
    },
    {
      "cell_type": "markdown",
      "metadata": {
        "id": "-EkmCggAC-Fn"
      },
      "source": [
        "Make directory to contain some test images"
      ]
    },
    {
      "cell_type": "code",
      "metadata": {
        "id": "GXTzsOy19fxj"
      },
      "source": [
        "from pathlib import Path\n",
        "\n",
        "output_dir = '/content/test_data/'\n",
        "Path(output_dir).mkdir(parents=True, exist_ok=True)"
      ],
      "execution_count": null,
      "outputs": []
    },
    {
      "cell_type": "markdown",
      "metadata": {
        "id": "eQPVtGmHDChr"
      },
      "source": [
        "Get all image data from LabelBox"
      ]
    },
    {
      "cell_type": "code",
      "metadata": {
        "id": "tviqAci-32h0"
      },
      "source": [
        "output_dir = '/content/test_data/'\n",
        "\n",
        "image_info = []\n",
        "\n",
        "for label in labelbox_project.labels():\n",
        "  image_data = label.data_row()\n",
        "  file_name = image_data.external_id\n",
        "  image_info.append((image_data.row_data, file_name))"
      ],
      "execution_count": null,
      "outputs": []
    },
    {
      "cell_type": "markdown",
      "metadata": {
        "id": "zjqp0vhHDGjw"
      },
      "source": [
        "I looked through some images and found these two that I thought would be an ok fit for this as an example"
      ]
    },
    {
      "cell_type": "code",
      "metadata": {
        "id": "9PDanqX_B-8z"
      },
      "source": [
        "test_images = []\n",
        "test_images.append(image_info[0])\n",
        "test_images.append(image_info[691])"
      ],
      "execution_count": null,
      "outputs": []
    },
    {
      "cell_type": "markdown",
      "metadata": {
        "id": "60012L5nDMxq"
      },
      "source": [
        "Download all test images that were deemed good for this example"
      ]
    },
    {
      "cell_type": "code",
      "metadata": {
        "id": "YHUiH4jG8NuF"
      },
      "source": [
        "for img in test_images:\n",
        "  img_link = img[0]\n",
        "  img_name = img[1]\n",
        "  response = urllib.request.urlretrieve(img_link, output_dir + img_name)"
      ],
      "execution_count": null,
      "outputs": []
    },
    {
      "cell_type": "markdown",
      "metadata": {
        "id": "MNgEGch_JWYy"
      },
      "source": [
        "Get dependencies for decoding"
      ]
    },
    {
      "cell_type": "code",
      "metadata": {
        "id": "3KH7MgdVH6zo"
      },
      "source": [
        "!apt install libzbar0\n",
        "!pip install pyzbar\n",
        "\n",
        "import cv2\n",
        "from pyzbar.pyzbar import decode, ZBarSymbol\n",
        "from PIL import Image"
      ],
      "execution_count": null,
      "outputs": []
    },
    {
      "cell_type": "markdown",
      "metadata": {
        "id": "nnPpqIOyJYl4"
      },
      "source": [
        "Custom decode methods for OpenCV and PyZBar. More testing is needed on which of the two are superior."
      ]
    },
    {
      "cell_type": "code",
      "metadata": {
        "id": "Hk2PqY-THRcq"
      },
      "source": [
        "def opencv_decode(img_path):\n",
        "  img = cv2.imread(img_path)\n",
        "  retval, points = cv2.QRCodeDetector().detect(img)\n",
        "  print('Was a QR code found?', retval)\n",
        "  if retval:\n",
        "      data, straight_code = cv2.QRCodeDetector().decode(img, points)\n",
        "      if len(data) > 0:\n",
        "        print('Detection data: \\n', data)\n",
        "      else:\n",
        "        print('QR tag could not be decoded')\n",
        "\n",
        "def pyzbar_decode(img_path):\n",
        "  img = Image.open(img_path)\n",
        "  print('Detection data: ', decode(img))"
      ],
      "execution_count": null,
      "outputs": []
    },
    {
      "cell_type": "code",
      "metadata": {
        "colab": {
          "base_uri": "https://localhost:8080/",
          "height": 476
        },
        "id": "VBVcsPnY9tiK",
        "outputId": "0e6857bb-a529-4e46-b5fe-4352f247de31"
      },
      "source": [
        "for img in test_images:\n",
        "  img_name = img[1]\n",
        "  print(f'Detecting codes in {img_name}')\n",
        "  res = learner.predict(output_dir + img_name)\n",
        "  if 'qr_code' in res[0]:\n",
        "    print('QR code found. Decoding...')\n",
        "\n",
        "    print('\\nAttempting to decode with OpenCV')\n",
        "    print('--------------------------------')\n",
        "    opencv_decode(output_dir + img_name)\n",
        "    print('--------------------------------')\n",
        "\n",
        "    print('\\nAttempting to decode with PyZBar')\n",
        "    print('--------------------------------')\n",
        "    pyzbar_decode(output_dir + img_name)\n",
        "    print('--------------------------------\\n')"
      ],
      "execution_count": null,
      "outputs": [
        {
          "output_type": "stream",
          "text": [
            "Detecting codes in DJI_0321-0h0m36s903.png\n"
          ],
          "name": "stdout"
        },
        {
          "output_type": "display_data",
          "data": {
            "text/html": [
              ""
            ],
            "text/plain": [
              "<IPython.core.display.HTML object>"
            ]
          },
          "metadata": {
            "tags": []
          }
        },
        {
          "output_type": "stream",
          "text": [
            "QR code found. Decoding...\n",
            "\n",
            "Attempting to decode with OpenCV\n",
            "--------------------------------\n",
            "Was a QR code found? False\n",
            "--------------------------------\n",
            "\n",
            "Attempting to decode with PyZBar\n",
            "--------------------------------\n",
            "Detection data:  []\n",
            "--------------------------------\n",
            "\n",
            "Detecting codes in DJI_0324-0h0m7s941.png\n"
          ],
          "name": "stdout"
        },
        {
          "output_type": "display_data",
          "data": {
            "text/html": [
              ""
            ],
            "text/plain": [
              "<IPython.core.display.HTML object>"
            ]
          },
          "metadata": {
            "tags": []
          }
        },
        {
          "output_type": "stream",
          "text": [
            "QR code found. Decoding...\n",
            "\n",
            "Attempting to decode with OpenCV\n",
            "--------------------------------\n",
            "Was a QR code found? True\n",
            "QR tag could not be decoded\n",
            "--------------------------------\n",
            "\n",
            "Attempting to decode with PyZBar\n",
            "--------------------------------\n",
            "Detection data:  []\n",
            "--------------------------------\n",
            "\n"
          ],
          "name": "stdout"
        }
      ]
    }
  ]
}